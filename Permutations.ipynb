{
 "cells": [
  {
   "cell_type": "markdown",
   "metadata": {},
   "source": [
    "In this kata you have to create all permutations of an input string and remove duplicates, if present. This means, you have to shuffle all letters from the input in all possible orders.\n",
    "\n",
    "Examples:\n",
    "* permutations('a'); # ['a']\n",
    "* permutations('ab'); # ['ab', 'ba']\n",
    "* permutations('aabb'); # ['aabb', 'abab', 'abba', 'baab', 'baba', 'bbaa']\n",
    "\n",
    "https://www.codewars.com/kata/5254ca2719453dcc0b00027d/train/python"
   ]
  },
  {
   "cell_type": "code",
   "execution_count": 18,
   "metadata": {},
   "outputs": [],
   "source": [
    "import itertools"
   ]
  },
  {
   "cell_type": "code",
   "execution_count": 71,
   "metadata": {},
   "outputs": [],
   "source": [
    "def permutations(string):\n",
    "    \n",
    "    target_list = []\n",
    "    result = []\n",
    "\n",
    "    for i in string:\n",
    "        target_list.append(string)\n",
    "\n",
    "    shuffled = list(itertools.permutations(string, len(target_list)))\n",
    "    \n",
    "    for i in range(len(shuffled)):\n",
    "        result.append(''.join(shuffled[i]))\n",
    "    \n",
    "    return set(result)"
   ]
  },
  {
   "cell_type": "code",
   "execution_count": 70,
   "metadata": {},
   "outputs": [
    {
     "data": {
      "text/plain": [
       "['aabb',\n",
       " 'aabb',\n",
       " 'abab',\n",
       " 'abba',\n",
       " 'abab',\n",
       " 'abba',\n",
       " 'aabb',\n",
       " 'aabb',\n",
       " 'abab',\n",
       " 'abba',\n",
       " 'abab',\n",
       " 'abba',\n",
       " 'baab',\n",
       " 'baba',\n",
       " 'baab',\n",
       " 'baba',\n",
       " 'bbaa',\n",
       " 'bbaa',\n",
       " 'baab',\n",
       " 'baba',\n",
       " 'baab',\n",
       " 'baba',\n",
       " 'bbaa',\n",
       " 'bbaa']"
      ]
     },
     "execution_count": 70,
     "metadata": {},
     "output_type": "execute_result"
    }
   ],
   "source": [
    "permutations('aabb')"
   ]
  },
  {
   "cell_type": "code",
   "execution_count": 34,
   "metadata": {},
   "outputs": [],
   "source": [
    "a = itertools.permutations('ABCD', 4)"
   ]
  },
  {
   "cell_type": "code",
   "execution_count": 35,
   "metadata": {},
   "outputs": [],
   "source": [
    "b =list(a)"
   ]
  },
  {
   "cell_type": "code",
   "execution_count": 39,
   "metadata": {},
   "outputs": [
    {
     "data": {
      "text/plain": [
       "'ABCD'"
      ]
     },
     "execution_count": 39,
     "metadata": {},
     "output_type": "execute_result"
    }
   ],
   "source": [
    "''.join((b[0]))"
   ]
  },
  {
   "cell_type": "code",
   "execution_count": 44,
   "metadata": {},
   "outputs": [
    {
     "data": {
      "text/plain": [
       "[('A', 'B', 'C', 'D'),\n",
       " ('A', 'B', 'D', 'C'),\n",
       " ('A', 'C', 'B', 'D'),\n",
       " ('A', 'C', 'D', 'B'),\n",
       " ('A', 'D', 'B', 'C'),\n",
       " ('A', 'D', 'C', 'B'),\n",
       " ('B', 'A', 'C', 'D'),\n",
       " ('B', 'A', 'D', 'C'),\n",
       " ('B', 'C', 'A', 'D'),\n",
       " ('B', 'C', 'D', 'A'),\n",
       " ('B', 'D', 'A', 'C'),\n",
       " ('B', 'D', 'C', 'A'),\n",
       " ('C', 'A', 'B', 'D'),\n",
       " ('C', 'A', 'D', 'B'),\n",
       " ('C', 'B', 'A', 'D'),\n",
       " ('C', 'B', 'D', 'A'),\n",
       " ('C', 'D', 'A', 'B'),\n",
       " ('C', 'D', 'B', 'A'),\n",
       " ('D', 'A', 'B', 'C'),\n",
       " ('D', 'A', 'C', 'B'),\n",
       " ('D', 'B', 'A', 'C'),\n",
       " ('D', 'B', 'C', 'A'),\n",
       " ('D', 'C', 'A', 'B'),\n",
       " ('D', 'C', 'B', 'A')]"
      ]
     },
     "execution_count": 44,
     "metadata": {},
     "output_type": "execute_result"
    }
   ],
   "source": [
    "b"
   ]
  },
  {
   "cell_type": "code",
   "execution_count": 47,
   "metadata": {},
   "outputs": [],
   "source": [
    "tempt = []"
   ]
  },
  {
   "cell_type": "code",
   "execution_count": 48,
   "metadata": {},
   "outputs": [],
   "source": [
    "for i in range(len(b)):\n",
    "    tempt.append(''.join(b[i]))"
   ]
  },
  {
   "cell_type": "code",
   "execution_count": 49,
   "metadata": {},
   "outputs": [
    {
     "data": {
      "text/plain": [
       "['ABCD',\n",
       " 'ABDC',\n",
       " 'ACBD',\n",
       " 'ACDB',\n",
       " 'ADBC',\n",
       " 'ADCB',\n",
       " 'BACD',\n",
       " 'BADC',\n",
       " 'BCAD',\n",
       " 'BCDA',\n",
       " 'BDAC',\n",
       " 'BDCA',\n",
       " 'CABD',\n",
       " 'CADB',\n",
       " 'CBAD',\n",
       " 'CBDA',\n",
       " 'CDAB',\n",
       " 'CDBA',\n",
       " 'DABC',\n",
       " 'DACB',\n",
       " 'DBAC',\n",
       " 'DBCA',\n",
       " 'DCAB',\n",
       " 'DCBA']"
      ]
     },
     "execution_count": 49,
     "metadata": {},
     "output_type": "execute_result"
    }
   ],
   "source": [
    "tempt"
   ]
  },
  {
   "cell_type": "code",
   "execution_count": null,
   "metadata": {},
   "outputs": [],
   "source": []
  }
 ],
 "metadata": {
  "kernelspec": {
   "display_name": "Python 3",
   "language": "python",
   "name": "python3"
  },
  "language_info": {
   "codemirror_mode": {
    "name": "ipython",
    "version": 3
   },
   "file_extension": ".py",
   "mimetype": "text/x-python",
   "name": "python",
   "nbconvert_exporter": "python",
   "pygments_lexer": "ipython3",
   "version": "3.7.3"
  }
 },
 "nbformat": 4,
 "nbformat_minor": 2
}

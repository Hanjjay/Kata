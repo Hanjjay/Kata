{
 "cells": [
  {
   "cell_type": "code",
   "execution_count": null,
   "metadata": {},
   "outputs": [],
   "source": [
    "def encrypt_this(target):\n",
    "    classify_target = target.split(' ')\n",
    "    result = \"\"\n",
    "    if len(target) == 0:\n",
    "        return result\n",
    "    else:\n",
    "        pass\n",
    "    for _ in range(len(classify_target)):\n",
    "        classify_target_asc = ord(classify_target[_][0])\n",
    "        \n",
    "        if len(classify_target[_]) == 1:\n",
    "            result += str(classify_target_asc) +\" \"\n",
    "        \n",
    "        elif len(classify_target[_]) == 2:\n",
    "            result += str(classify_target_asc)+classify_target[_][1]+\" \"\n",
    "        else:\n",
    "            classify_target_asc = ord(classify_target[_][0])\n",
    "            result += str(classify_target_asc) + classify_target[_][-1]+ classify_target[_][2:-1] + classify_target[_][1]\n",
    "            result +=\" \"\n",
    "    \n",
    "    return result[:-1]"
   ]
  },
  {
   "cell_type": "code",
   "execution_count": 1,
   "metadata": {},
   "outputs": [],
   "source": [
    "a = []"
   ]
  },
  {
   "cell_type": "code",
   "execution_count": null,
   "metadata": {},
   "outputs": [],
   "source": [
    "a.remove"
   ]
  }
 ],
 "metadata": {
  "kernelspec": {
   "display_name": "Python 3",
   "language": "python",
   "name": "python3"
  },
  "language_info": {
   "codemirror_mode": {
    "name": "ipython",
    "version": 3
   },
   "file_extension": ".py",
   "mimetype": "text/x-python",
   "name": "python",
   "nbconvert_exporter": "python",
   "pygments_lexer": "ipython3",
   "version": "3.7.3"
  }
 },
 "nbformat": 4,
 "nbformat_minor": 2
}

{
 "cells": [
  {
   "cell_type": "markdown",
   "metadata": {},
   "source": [
    "### Banker's Plan\n",
    "\n",
    " - 존은 p의 이자율을 가진 은행에 f0의 금액을 예금하여 i의 물가 상승률은 적용될 예정인 c0의 금액으로 n년 동안 살고자 한다\n",
    " \n",
    " - n년 전에 엥꼬나면 false, 돈이 남으면 true를 반환하는 함수를 만들어라\n",
    "\n",
    " - John has some amount of money of which he wants to deposit a part f0 to the bank at the beginning of year 1. \n",
    " \n",
    " - He wants to withdraw each year for his living an amount c0.\n",
    "\n",
    " - Here is his banker plan:\n",
    "\n",
    " > 1. deposit f0 at beginning of year 1\n",
    " > \n",
    " > 2. his bank account has an interest rate of p percent per year, constant over the years\n",
    " > \n",
    " > 3. John can withdraw each year c0, taking it whenever he wants in the year; he must take account of an inflation of i percent per year in order to keep his quality of living. i is supposed to stay constant over the years.\n",
    " > \n",
    " > 4. all amounts f0..fn-1, c0..cn-1 are truncated by the bank to their integral part\n",
    " > \n",
    " > 5. Given f0, p, c0, i the banker guarantees that John will be able to go on that way until the nth year.\n",
    " \n",
    " - Example:\n",
    "\n",
    " >  f0 = 100000, p = 1 percent, c0 = 2000, n = 15, i = 1 percent\n",
    "\n",
    " > beginning of year 2 -> f1 = 100000 + 0.01*100000 - 2000 = 99000;  c1 = c0 + c0*0.01 = 2020 (with inflation of previous year)\n",
    "\n",
    " > beginning of year 3 -> f2 =  99000 + 0.01*99000 - 2020  = 97970;  c2 = c1 + c1*0.01 = 2040.20 \n",
    "(with inflation of previous year, truncated to 2040)\n",
    "\n",
    " > beginning of year 4 -> f3 =  97970 + 0.01*97970 - 2040  = 96909.7 (truncated to 96909); \n",
    "c3 = c2 + c2*0.01 = 2060.4 (with inflation of previous year, truncated to 2060)\n",
    "\n",
    " - John wants to know if the bankers'plan is right or wrong. \n",
    " \n",
    " - Given parameters f0, p, c0, n, i build a function fortune which returns true if John can make a living until the nth year and false if it is not possible.\n",
    "\n",
    " - Some cases:\n",
    " \n",
    " > fortune(100000, 1, 2000, 15, 1) -> True\n",
    "\n",
    " > fortune(100000, 1, 10000, 10, 1) -> True\n",
    "\n",
    " > fortune(100000, 1, 9185, 12, 1) -> False\n",
    "\n",
    " > For the last case you can find below the amounts of his account at the beginning of each year:\n",
    "100000, 91815, 83457, 74923, 66211, 57318, 48241, 38977, 29523, 19877, 10035, -5\n",
    "\n",
    " > f11 = -5 so he has no way to withdraw something for his living in year 12.\n",
    "\n",
    " - Note: Don't forget to convert the percent parameters as percentages in the body of your function: if a parameter percent is 2 you have to convert it to 0.02."
   ]
  },
  {
   "cell_type": "code",
   "execution_count": 30,
   "metadata": {},
   "outputs": [],
   "source": [
    "def fortune(f0, p, c0, n, i):\n",
    "    for t in range(n-1):\n",
    "        f0 = int(f0 + f0*p/100 - c0)\n",
    "        c0 = int(c0+c0*i/100)\n",
    "        \n",
    "    if f0>=0 :\n",
    "        return True\n",
    "    else:\n",
    "        return False"
   ]
  },
  {
   "cell_type": "code",
   "execution_count": 33,
   "metadata": {},
   "outputs": [
    {
     "name": "stdout",
     "output_type": "stream",
     "text": [
      "False\n",
      "True\n",
      "True\n"
     ]
    },
    {
     "data": {
      "text/plain": [
       "True"
      ]
     },
     "execution_count": 33,
     "metadata": {},
     "output_type": "execute_result"
    }
   ],
   "source": [
    "print(fortune(-100000, 1, -9185, 12, 1))\n",
    "print(fortune(100000, 1, 10000, 10, 1))\n",
    "print(fortune(100000, 1, 2000, 15, 1))\n",
    "fortune(100000000, 5, 1000000, 50, 1)"
   ]
  },
  {
   "cell_type": "code",
   "execution_count": 32,
   "metadata": {},
   "outputs": [
    {
     "name": "stdout",
     "output_type": "stream",
     "text": [
      "0\n",
      "1\n",
      "2\n"
     ]
    }
   ],
   "source": [
    "i =4 \n",
    "for t in range(i-1):\n",
    "    print(t)"
   ]
  },
  {
   "cell_type": "code",
   "execution_count": 25,
   "metadata": {},
   "outputs": [
    {
     "data": {
      "text/plain": [
       "0"
      ]
     },
     "execution_count": 25,
     "metadata": {},
     "output_type": "execute_result"
    }
   ],
   "source": [
    "def fortune(f0,p,c0,n,i):\n",
    "    "
   ]
  },
  {
   "cell_type": "code",
   "execution_count": null,
   "metadata": {},
   "outputs": [],
   "source": []
  }
 ],
 "metadata": {
  "kernelspec": {
   "display_name": "Python 3",
   "language": "python",
   "name": "python3"
  },
  "language_info": {
   "codemirror_mode": {
    "name": "ipython",
    "version": 3
   },
   "file_extension": ".py",
   "mimetype": "text/x-python",
   "name": "python",
   "nbconvert_exporter": "python",
   "pygments_lexer": "ipython3",
   "version": "3.7.3"
  }
 },
 "nbformat": 4,
 "nbformat_minor": 2
}

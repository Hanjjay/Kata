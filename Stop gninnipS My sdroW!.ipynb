{
 "cells": [
  {
   "cell_type": "markdown",
   "metadata": {},
   "source": [
    "###### Stop gninnipS My sdroW!\n",
    "\n",
    " - rite a function that takes in a string of one or more words, and returns the same string, but with all five or more letter words reversed (Just like the name of this Kata). \n",
    " \n",
    " - Strings passed in will consist of only letters and spaces. \n",
    " \n",
    " - Spaces will be included only when more than one word is present.\n",
    "\n",
    "\n",
    " - Examples: \n",
    "\n",
    " `spinWords( \"Hey fellow warriors\" ) => returns \"Hey wollef sroirraw\"`  \n",
    " `spinWords( \"This is a test\") => returns \"This is a test\"`  \n",
    " `spinWords( \"This is another test\" )=> returns \"This is rehtona test\"`  "
   ]
  },
  {
   "cell_type": "code",
   "execution_count": 1,
   "metadata": {},
   "outputs": [],
   "source": [
    "def spin_words(target):\n",
    "    classify_target = target.split(' ')\n",
    "    result = \"\"\n",
    "    \n",
    "    for i in classify_target:\n",
    "        if len(i) < 5:\n",
    "            result += i + \" \"\n",
    "            \n",
    "        elif len(i) >= 5:\n",
    "            result += i[::-1] +\" \"\n",
    "        \n",
    "    return result[:-1]"
   ]
  },
  {
   "cell_type": "code",
   "execution_count": null,
   "metadata": {},
   "outputs": [],
   "source": []
  }
 ],
 "metadata": {
  "kernelspec": {
   "display_name": "Python 3",
   "language": "python",
   "name": "python3"
  },
  "language_info": {
   "codemirror_mode": {
    "name": "ipython",
    "version": 3
   },
   "file_extension": ".py",
   "mimetype": "text/x-python",
   "name": "python",
   "nbconvert_exporter": "python",
   "pygments_lexer": "ipython3",
   "version": "3.7.3"
  }
 },
 "nbformat": 4,
 "nbformat_minor": 2
}

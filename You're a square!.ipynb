{
 "cells": [
  {
   "cell_type": "code",
   "execution_count": 35,
   "metadata": {},
   "outputs": [
    {
     "name": "stdout",
     "output_type": "stream",
     "text": [
      "문자열은 입력하시면 안됩니다\n"
     ]
    }
   ],
   "source": [
    "import math \n",
    "def is_square(n):\n",
    "    if str == type(n):\n",
    "        return print('문자열은 입력하시면 안됩니다')\n",
    "    if n < 0:\n",
    "        return False\n",
    "        \n",
    "    sqrt_Value = math.sqrt(n)\n",
    "    \n",
    "    if 0 != sqrt_Value - int(sqrt_Value):\n",
    "        return False\n",
    "    else:\n",
    "        return True\n",
    "\n",
    "is_square('25')"
   ]
  },
  {
   "cell_type": "code",
   "execution_count": 9,
   "metadata": {},
   "outputs": [
    {
     "name": "stdout",
     "output_type": "stream",
     "text": [
      "ㅓㅈㅇ수\n"
     ]
    }
   ],
   "source": [
    "n= 250\n",
    "if 0 != n - int(n):\n",
    "    print('float')\n",
    "else:\n",
    "    print ('ㅓㅈㅇ수')"
   ]
  },
  {
   "cell_type": "code",
   "execution_count": 11,
   "metadata": {},
   "outputs": [
    {
     "data": {
      "text/plain": [
       "5.0990195135927845"
      ]
     },
     "execution_count": 11,
     "metadata": {},
     "output_type": "execute_result"
    }
   ],
   "source": [
    "import math\n",
    "\n",
    "a=26\n",
    "\n",
    "math.sqrt(a)\n"
   ]
  },
  {
   "cell_type": "code",
   "execution_count": 33,
   "metadata": {},
   "outputs": [
    {
     "data": {
      "text/plain": [
       "str"
      ]
     },
     "execution_count": 33,
     "metadata": {},
     "output_type": "execute_result"
    }
   ],
   "source": [
    "n = '25'\n",
    "type(n)"
   ]
  },
  {
   "cell_type": "code",
   "execution_count": null,
   "metadata": {},
   "outputs": [],
   "source": []
  }
 ],
 "metadata": {
  "kernelspec": {
   "display_name": "Python 3",
   "language": "python",
   "name": "python3"
  },
  "language_info": {
   "codemirror_mode": {
    "name": "ipython",
    "version": 3
   },
   "file_extension": ".py",
   "mimetype": "text/x-python",
   "name": "python",
   "nbconvert_exporter": "python",
   "pygments_lexer": "ipython3",
   "version": "3.7.3"
  }
 },
 "nbformat": 4,
 "nbformat_minor": 2
}

{
 "cells": [
  {
   "cell_type": "markdown",
   "metadata": {},
   "source": [
    "###### Find the unique number\n",
    "\n",
    " - There is an array with some numbers. All numbers are equal except for one. Try to find it!  \n",
    "\n",
    "```\n",
    "find_uniq([ 1, 1, 1, 2, 1, 1 ]) == 2\n",
    "find_uniq([ 0, 0, 0.55, 0, 0 ]) == 0.55\n",
    "```\n",
    "\n",
    " - It’s guaranteed that array contains at least 3 numbers.  \n",
    "\n",
    " - The tests contain some very huge arrays, so think about performance.  "
   ]
  },
  {
   "cell_type": "code",
   "execution_count": 1,
   "metadata": {},
   "outputs": [],
   "source": [
    "def find_uniq(arr):\n",
    "    \n",
    "    storage =[]\n",
    "    if arr[0] != arr[1]:\n",
    "        if arr[0] == arr[2]:\n",
    "            return arr[1]\n",
    "        else:\n",
    "            return arr[0]\n",
    "        \n",
    "    else:\n",
    "        for i in range(len(arr)-1):\n",
    "            if arr[i] == arr[i+1]:\n",
    "                pass\n",
    "            else:\n",
    "                return arr[i+1]\n",
    "    return n   # n: unique integer in the array"
   ]
  },
  {
   "cell_type": "code",
   "execution_count": null,
   "metadata": {},
   "outputs": [],
   "source": []
  }
 ],
 "metadata": {
  "kernelspec": {
   "display_name": "Python 3",
   "language": "python",
   "name": "python3"
  },
  "language_info": {
   "codemirror_mode": {
    "name": "ipython",
    "version": 3
   },
   "file_extension": ".py",
   "mimetype": "text/x-python",
   "name": "python",
   "nbconvert_exporter": "python",
   "pygments_lexer": "ipython3",
   "version": "3.7.3"
  }
 },
 "nbformat": 4,
 "nbformat_minor": 2
}

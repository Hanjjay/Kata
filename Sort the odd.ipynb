{
 "cells": [
  {
   "cell_type": "markdown",
   "metadata": {},
   "source": [
    "## sort the odd\n",
    "\n",
    "\n",
    "You have an array of numbers.\n",
    "Your task is to sort ascending odd numbers but even numbers must be on their places.\n",
    "\n",
    "Zero isn't an odd number and you don't need to move it. If you have an empty array, you need to return it.\n",
    "\n",
    "Example\n",
    "\n",
    "* sort_array([5, 3, 2, 8, 1, 4]) == [1, 3, 2, 8, 5, 4]"
   ]
  },
  {
   "cell_type": "markdown",
   "metadata": {},
   "source": [
    "홀수 - 정열 \n",
    "\n",
    "짝수 - 제자리"
   ]
  },
  {
   "cell_type": "code",
   "execution_count": 53,
   "metadata": {},
   "outputs": [],
   "source": [
    "def sort_array(source_array):\n",
    "    even_list = []\n",
    "    odd_list = []\n",
    "    result = []\n",
    "    \n",
    "    for i in source_array:\n",
    "        if i%2 == 0:\n",
    "            even_list.append(i)\n",
    "        else:\n",
    "            odd_list.append(i)\n",
    "            \n",
    "    odd_list.sort()\n",
    "    \n",
    "    even_list.reverse()\n",
    "    odd_list.reverse()\n",
    "    \n",
    "    for i in source_array:\n",
    "        if i%2 == 0:\n",
    "            result.append(even_list.pop())\n",
    "        else:\n",
    "            result.append(odd_list.pop())\n",
    "    return result"
   ]
  },
  {
   "cell_type": "code",
   "execution_count": 54,
   "metadata": {},
   "outputs": [],
   "source": [
    "sort_array([5, 3, 2, 8, 1, 4])"
   ]
  }
 ],
 "metadata": {
  "kernelspec": {
   "display_name": "Python 3",
   "language": "python",
   "name": "python3"
  },
  "language_info": {
   "codemirror_mode": {
    "name": "ipython",
    "version": 3
   },
   "file_extension": ".py",
   "mimetype": "text/x-python",
   "name": "python",
   "nbconvert_exporter": "python",
   "pygments_lexer": "ipython3",
   "version": "3.7.3"
  }
 },
 "nbformat": 4,
 "nbformat_minor": 2
}

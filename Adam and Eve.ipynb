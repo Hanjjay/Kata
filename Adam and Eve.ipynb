{
 "cells": [
  {
   "cell_type": "markdown",
   "metadata": {},
   "source": [
    "### Basic subclasses - Adam and Eve\n",
    "\n",
    " - According to the creation myths of the Abrahamic religions, Adam and Eve were the first Humans to wander the Earth\n",
    "\n",
    " - You have to do God's job\n",
    " \n",
    " - The creation method must return an array of length 2 containing objects (representing Adam and Eve)\n",
    " \n",
    " - The first object in the array should be an instance of the class Man\n",
    " \n",
    " - The second should be an instance of the class Woman\n",
    " \n",
    " - Both objects have to be subclasses of Human. Your job is to implement the Human, Man and Woman classes\n",
    " \n",
    " > - 아브라함 종교의 창조 신화에 따르면, 아담과 이브는 지구를 탐험한 최초의 인간이었습니다\n",
    " >\n",
    " > - 이제 당신은 신과 같은 일을 해야합니다\n",
    " >\n",
    " > - 생성 방법은 객체를 포함하는 길이 2의 배열(array of length 2 containing objects) (아담과 이브를 나타냄)을 반환해야합니다\n",
    " >\n",
    " > - 배열의 첫 번째 객체는 Man 클래스의 인스턴스여야합니다\n",
    " >\n",
    " > - 두 번째는 Woman 클래스의 인스턴스여야합니다\n",
    " >\n",
    " > - 두 객체 모두 Human의 서브 클래스여야합니다\n",
    " >\n",
    " > - 당신이 해결해야할 문제는 Human, Man 및 Woman 클래스를 구현하는 것이다\n",
    " \n",
    " - ref : https://www.codewars.com/kata/547274e24481cfc469000416/train/python"
   ]
  },
  {
   "cell_type": "code",
   "execution_count": 9,
   "metadata": {},
   "outputs": [],
   "source": [
    "def God():\n",
    "    Earth = []\n",
    "    Adam = Man()\n",
    "    Eve = Woman()\n",
    "    Earth.append(Adam)\n",
    "    Earth.append(Eve)\n",
    "    return Earth\n",
    "    \n",
    "class Human(object):\n",
    "    Heart  = 1\n",
    "    Body = 1\n",
    "    Soul = 1\n",
    "\n",
    "class Man(Human):\n",
    "    adam = 0\n",
    "\n",
    "    \n",
    "class Woman(Human):\n",
    "    Eve = 0"
   ]
  },
  {
   "cell_type": "code",
   "execution_count": 13,
   "metadata": {},
   "outputs": [
    {
     "name": "stdout",
     "output_type": "stream",
     "text": [
      "True\n"
     ]
    }
   ],
   "source": [
    "paradise = God()\n",
    "print(isinstance(paradise[0], Man))"
   ]
  },
  {
   "cell_type": "code",
   "execution_count": null,
   "metadata": {},
   "outputs": [],
   "source": []
  },
  {
   "cell_type": "code",
   "execution_count": null,
   "metadata": {},
   "outputs": [],
   "source": []
  }
 ],
 "metadata": {
  "kernelspec": {
   "display_name": "Python 3",
   "language": "python",
   "name": "python3"
  },
  "language_info": {
   "codemirror_mode": {
    "name": "ipython",
    "version": 3
   },
   "file_extension": ".py",
   "mimetype": "text/x-python",
   "name": "python",
   "nbconvert_exporter": "python",
   "pygments_lexer": "ipython3",
   "version": "3.7.3"
  }
 },
 "nbformat": 4,
 "nbformat_minor": 2
}

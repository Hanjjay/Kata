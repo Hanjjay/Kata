{
 "cells": [
  {
   "cell_type": "markdown",
   "metadata": {},
   "source": [
    "###### Find the divisors!\n",
    "\n",
    " - Create a function named divisors/Divisors that takes an integer n > 1 and returns an array with all of the integer's divisors(except for 1 and the number itself), from smallest to largest. \n",
    " \n",
    " - If the number is prime return the string '(integer) is prime'.\n",
    "\n",
    " - Example:\n",
    "```\n",
    "divisors(12); #should return [2,3,4,6]\n",
    "divisors(25); #should return [5]\n",
    "divisors(13); #should return \"13 is prime\"\n",
    "```"
   ]
  },
  {
   "cell_type": "code",
   "execution_count": 47,
   "metadata": {},
   "outputs": [],
   "source": [
    "def divisors(target):\n",
    "    result =[]\n",
    "    for factor in range(2,target-1):\n",
    "        if target % factor == 0:\n",
    "            result.append(factor)\n",
    "        else:\n",
    "            pass\n",
    "    if len(result) == 0:\n",
    "        return print(target,\"is prime\")\n",
    "    else:\n",
    "        return result"
   ]
  },
  {
   "cell_type": "code",
   "execution_count": 48,
   "metadata": {},
   "outputs": [],
   "source": [
    "d=4"
   ]
  },
  {
   "cell_type": "code",
   "execution_count": 49,
   "metadata": {},
   "outputs": [
    {
     "name": "stdout",
     "output_type": "stream",
     "text": [
      "4 is prime\n"
     ]
    }
   ],
   "source": [
    "print(d,\"is prime\")"
   ]
  },
  {
   "cell_type": "code",
   "execution_count": null,
   "metadata": {},
   "outputs": [],
   "source": []
  }
 ],
 "metadata": {
  "kernelspec": {
   "display_name": "Python 3",
   "language": "python",
   "name": "python3"
  },
  "language_info": {
   "codemirror_mode": {
    "name": "ipython",
    "version": 3
   },
   "file_extension": ".py",
   "mimetype": "text/x-python",
   "name": "python",
   "nbconvert_exporter": "python",
   "pygments_lexer": "ipython3",
   "version": "3.7.3"
  }
 },
 "nbformat": 4,
 "nbformat_minor": 2
}

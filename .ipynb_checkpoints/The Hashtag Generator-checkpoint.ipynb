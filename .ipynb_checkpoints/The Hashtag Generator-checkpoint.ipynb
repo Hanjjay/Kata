{
 "cells": [
  {
   "cell_type": "markdown",
   "metadata": {},
   "source": [
    "### The Hashtag Generator\n",
    "The marketing team is spending way too much time typing in hashtags.\n",
    "Let's help them with our own Hashtag Generator!\n",
    "\n",
    "Here's the deal:\n",
    "\n",
    "It must start with a hashtag (#).\n",
    "All words must have their first letter capitalized.\n",
    "If the final result is longer than 140 chars it must return false.\n",
    "If the input or the result is an empty string it must return false.\n",
    "#### Examples\n",
    "* \" Hello there thanks for trying my Kata\"  =>  \"#HelloThereThanksForTryingMyKata\"\n",
    "* \"    Hello     World   \"                  =>  \"#HelloWorld\"\n",
    "* \"\"                                        =>  false\n",
    "* \"CodeWars is nice\"                        =>  \"#CodewarsIsNice\""
   ]
  },
  {
   "cell_type": "code",
   "execution_count": 57,
   "metadata": {},
   "outputs": [],
   "source": [
    "def generate_hashtag(s):\n",
    "    result = \"#\"\n",
    "    s = s.strip()\n",
    "    if len(s) == 0 or len(s) >= 140:\n",
    "        return False\n",
    "    s_split = s.split(\" \")\n",
    "    for i in s_split:\n",
    "        if len(i) == 0:\n",
    "            pass\n",
    "        elif len(i) == 1:\n",
    "            result += i[0].upper()\n",
    "        else:\n",
    "            result += i[0].upper() + i[1:].lower()\n",
    "    return result"
   ]
  },
  {
   "cell_type": "code",
   "execution_count": 56,
   "metadata": {},
   "outputs": [
    {
     "data": {
      "text/plain": [
       "'#CodewarsIsNice'"
      ]
     },
     "execution_count": 56,
     "metadata": {},
     "output_type": "execute_result"
    }
   ],
   "source": [
    "generate_hashtag('codewars  is nice')"
   ]
  }
 ],
 "metadata": {
  "kernelspec": {
   "display_name": "Python 3",
   "language": "python",
   "name": "python3"
  },
  "language_info": {
   "codemirror_mode": {
    "name": "ipython",
    "version": 3
   },
   "file_extension": ".py",
   "mimetype": "text/x-python",
   "name": "python",
   "nbconvert_exporter": "python",
   "pygments_lexer": "ipython3",
   "version": "3.7.3"
  }
 },
 "nbformat": 4,
 "nbformat_minor": 2
}

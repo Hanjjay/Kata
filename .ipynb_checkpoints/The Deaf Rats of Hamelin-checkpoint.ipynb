{
 "cells": [
  {
   "cell_type": "markdown",
   "metadata": {},
   "source": [
    " #### Story\n",
    "The Pied Piper has been enlisted to play his magical tune and coax all the rats out of town.\n",
    "\n",
    "But some of the rats are deaf and are going the wrong way!\n",
    "\n",
    "Kata Task\n",
    "How many deaf rats are there?\n",
    "\n",
    "Legend\n",
    "P = The Pied Piper\n",
    "O~ = Rat going left\n",
    "~O = Rat going right\n",
    "Example\n",
    "\n",
    "* ex1 ~O~O~O~O P has 0 deaf rats\n",
    "* ex2 P O~ O~ ~O O~ has 1 deaf rat\n",
    "* ex3 ~O~O~O~OP~O~OO~ has 2 deaf rats\n",
    "https://www.codewars.com/kata/598106cb34e205e074000031/train/python"
   ]
  },
  {
   "cell_type": "code",
   "execution_count": 2,
   "metadata": {},
   "outputs": [],
   "source": [
    "ex1 = \"~O~O~O~O P\"\n",
    "ex2 = \"P O~ O~ ~O O~\"\n",
    "ex3 = \"~O~O~O~OP~O~OO~\""
   ]
  },
  {
   "cell_type": "code",
   "execution_count": 31,
   "metadata": {},
   "outputs": [],
   "source": [
    "def count_deaf_rats(town):\n",
    "    deaf_rat = 0\n",
    "    test_split = town.replace(' ','').split('P')\n",
    "    \n",
    "    \n",
    "    if len(test_split) == 0:   #마을의 쥐가 없을경우\n",
    "        pass\n",
    "    \n",
    "    elif test_split[0] == '': #사나이가 맨왼쪽\n",
    "        deaf_rat += checkpoint(test_split[1],'~O')\n",
    "        \n",
    "    elif test_split[1] == '': # 사나이가 맨 오른쪽\n",
    "        deaf_rat += checkpoint(test_split[0],'O~')\n",
    "        \n",
    "    else: #사나이가 중앙\n",
    "        deaf_rat += checkpoint(test_split[1],'~O') + checkpoint(test_split[0],'O~')\n",
    "    \n",
    "    return deaf_rat\n"
   ]
  },
  {
   "cell_type": "code",
   "execution_count": 32,
   "metadata": {},
   "outputs": [],
   "source": [
    "def checkpoint(line,target):\n",
    "    \n",
    "    size = len(target)\n",
    "    start = 0\n",
    "    end = start + size\n",
    "    count = 0\n",
    "    \n",
    "    while (len(line) >= end):\n",
    "        if line[start:end] == target:\n",
    "            count += 1\n",
    "        start += size\n",
    "        end += size\n",
    "    return count"
   ]
  },
  {
   "cell_type": "code",
   "execution_count": 29,
   "metadata": {},
   "outputs": [],
   "source": [
    "a = '~O~O~OO~O~~O'"
   ]
  },
  {
   "cell_type": "code",
   "execution_count": 35,
   "metadata": {},
   "outputs": [
    {
     "data": {
      "text/plain": [
       "2"
      ]
     },
     "execution_count": 35,
     "metadata": {},
     "output_type": "execute_result"
    }
   ],
   "source": [
    "count_deaf_rats(ex3)"
   ]
  },
  {
   "cell_type": "code",
   "execution_count": 8,
   "metadata": {},
   "outputs": [
    {
     "data": {
      "text/plain": [
       "'~O'"
      ]
     },
     "execution_count": 8,
     "metadata": {},
     "output_type": "execute_result"
    }
   ],
   "source": [
    "a[2:4]"
   ]
  },
  {
   "cell_type": "code",
   "execution_count": null,
   "metadata": {},
   "outputs": [],
   "source": []
  }
 ],
 "metadata": {
  "kernelspec": {
   "display_name": "Python 3",
   "language": "python",
   "name": "python3"
  },
  "language_info": {
   "codemirror_mode": {
    "name": "ipython",
    "version": 3
   },
   "file_extension": ".py",
   "mimetype": "text/x-python",
   "name": "python",
   "nbconvert_exporter": "python",
   "pygments_lexer": "ipython3",
   "version": "3.7.3"
  }
 },
 "nbformat": 4,
 "nbformat_minor": 2
}

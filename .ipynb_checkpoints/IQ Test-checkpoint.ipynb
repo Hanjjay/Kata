{
 "cells": [
  {
   "cell_type": "markdown",
   "metadata": {},
   "source": [
    "###### IQ Test\n",
    "\n",
    " - Bob is preparing to pass IQ test. \n",
    " \n",
    " - The most frequent task in this test is to find out which one of the given numbers differs from the others. \n",
    " \n",
    " - Bob observed that one number usually differs from the others in evenness. \n",
    " \n",
    " - Help Bob — to check his answers, he needs a program that among the given numbers finds one that is different in evenness, and return a position of this number.\n",
    "\n",
    " - Keep in mind that your task is to help Bob solve a real IQ test, which means indexes of the elements start from 1 (not 0)  \n",
    "\n",
    " - Examples :\n",
    "\n",
    "```\n",
    "iq_test(\"2 4 7 8 10\") => 3 // Third number is odd, while the rest of the numbers are even\n",
    "\n",
    "iq_test(\"1 2 1 1\") => 2 // Second number is even, while the rest of the numbers are odd\n",
    "```"
   ]
  },
  {
   "cell_type": "code",
   "execution_count": 1,
   "metadata": {},
   "outputs": [],
   "source": [
    "def iq_test(numbers):\n",
    "    \n",
    "    list_numbers = numbers.split(' ')\n",
    "    odd_count = 0\n",
    "    even_count = 0\n",
    "    for i in range(len(list_numbers)):\n",
    "        if int(list_numbers[i]) % 2 == 0:\n",
    "            even_count += 1\n",
    "        else:\n",
    "            odd_count += 1    \n",
    "            \n",
    "    if even_count > odd_count:\n",
    "        for k in range(len(list_numbers)):\n",
    "            if (int(list_numbers[k])%2 != 0):\n",
    "                return k+1\n",
    "    else:\n",
    "        for k in range(len(list_numbers)):\n",
    "            if (int(list_numbers[k])%2 == 0):\n",
    "                return k+1"
   ]
  },
  {
   "cell_type": "code",
   "execution_count": null,
   "metadata": {},
   "outputs": [],
   "source": []
  }
 ],
 "metadata": {
  "kernelspec": {
   "display_name": "Python 3",
   "language": "python",
   "name": "python3"
  },
  "language_info": {
   "codemirror_mode": {
    "name": "ipython",
    "version": 3
   },
   "file_extension": ".py",
   "mimetype": "text/x-python",
   "name": "python",
   "nbconvert_exporter": "python",
   "pygments_lexer": "ipython3",
   "version": "3.7.3"
  }
 },
 "nbformat": 4,
 "nbformat_minor": 2
}

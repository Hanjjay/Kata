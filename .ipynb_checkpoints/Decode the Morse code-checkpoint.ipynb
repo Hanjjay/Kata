{
 "cells": [
  {
   "cell_type": "markdown",
   "metadata": {},
   "source": [
    "###### Decode the Morse code\n",
    "\n",
    " - In this kata you have to write a simple Morse code decoder. \n",
    " \n",
    " - While the [Morse code](https://en.wikipedia.org/wiki/Morse_code) is now mostly superseded by voice and digital data communication channels, it still has its use in some applications around the world.\n",
    " \n",
    " - The Morse code encodes every character as a sequence of \"dots\" and \"dashes\". \n",
    " \n",
    " - For example, the letter A is coded as `·−`, letter Q is coded as `−−·−`, and digit 1 is coded as `·−−−−`. \n",
    " \n",
    " - The Morse code is case-insensitive, traditionally capital letters are used. \n",
    " \n",
    " - When the message is written in Morse code, a single space is used to separate the character codes and 3 spaces are used to separate words. \n",
    " \n",
    " - For example, the message HEY JUDE in Morse code is `···· · −·−−   ·−−− ··− −·· ·`.\n",
    "\"\n",
    " - NOTE: Extra spaces before or after the code have no meaning and should be ignored.\n",
    "\n",
    " - In addition to letters, digits and some punctuation, there are some special service codes, the most notorious of those is the international distress signal SOS (that was first issued by Titanic), that is coded as `···−−−···`. \n",
    " \n",
    " - These special codes are treated as single special characters, and usually are transmitted as separate words.\n",
    "\n",
    " - Your task is to implement a function that would take the morse code as input and return a decoded human-readable string.\n",
    " \n",
    " - For example:\n",
    "\n",
    "```\n",
    "decodeMorse('.... . -.--   .--- ..- -.. .')\n",
    "#should return \"HEY JUDE\"\n",
    "```\n",
    "\n",
    " - NOTE: For coding purposes you have to use ASCII characters `.` and `-`, not Unicode characters."
   ]
  },
  {
   "cell_type": "code",
   "execution_count": 1,
   "metadata": {},
   "outputs": [],
   "source": [
    "def decodeMorse(morse_code):\n",
    "    result =\"\"\n",
    "    intact_morse = morse_code.strip()\n",
    "    MORSE_CODE = {\n",
    "\".-\" : \"A\",\n",
    "\"-...\": \"B\",\n",
    "\"-.-.\": \"C\",\n",
    "\"-..\": \"D\",\n",
    "\".\": \"E\",\n",
    "\"..-.\": \"F\", \"-----\": \"0\",\n",
    "\"--.\": \"G\", \".----\": \"1\",\n",
    "\"....\": \"H\", \"..---\": \"2\",\n",
    "\"..\": \"I\", \"...--\": \"3\",\n",
    "\".---\": \"J\", \"....-\": \"4\",\n",
    "\"-.-\": \"K\", \".....\": \"5\",\n",
    "\".-..\": \"L\", \"-....\": \"6\",\n",
    "\"--\": \"M\", \"--...\": \"7\",\n",
    "\"-.\": \"N\", \"---..\": \"8\",\n",
    "\"---\": \"O\", \"----.\": \"9\",\n",
    "\".--.\": \"P\", \".-.-.-\": \".\",\n",
    "\"--.-\": \"Q\", \"--..--\": \",\",\n",
    "\".-.\": \"R\", \"..--..\": \"?\",\n",
    "\"...\": \"S\", \"-....-\": \"-\",\n",
    "\"-\": \"T\", \".----.\": \"\",\n",
    "\"..-\": \"U\", \"---...\": \":\",\n",
    "\"...-\": \"V\", \".-..-.\": \"'\",\n",
    "\".--\": \"W\", \"-..-.\": \"/\",\n",
    "\"-..-\": \"X\", \".--.-.\": \"@\",\n",
    "\"-.--\": \"Y\",\n",
    "\"--..\": \"Z\",\n",
    "}\n",
    "    word_list = intact_morse.split('   ')\n",
    "    for i in word_list:\n",
    "        mores_list = i.split(' ')\n",
    "        \n",
    "        for j in mores_list:\n",
    "            result += MORSE_CODE[j]\n",
    "        result += \" \"\n",
    "        \n",
    "    return result[:-1]"
   ]
  },
  {
   "cell_type": "code",
   "execution_count": null,
   "metadata": {},
   "outputs": [],
   "source": []
  }
 ],
 "metadata": {
  "kernelspec": {
   "display_name": "Python 3",
   "language": "python",
   "name": "python3"
  },
  "language_info": {
   "codemirror_mode": {
    "name": "ipython",
    "version": 3
   },
   "file_extension": ".py",
   "mimetype": "text/x-python",
   "name": "python",
   "nbconvert_exporter": "python",
   "pygments_lexer": "ipython3",
   "version": "3.7.3"
  }
 },
 "nbformat": 4,
 "nbformat_minor": 2
}

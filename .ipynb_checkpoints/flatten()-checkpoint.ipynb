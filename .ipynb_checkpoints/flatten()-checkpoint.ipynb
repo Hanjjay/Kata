{
 "cells": [
  {
   "cell_type": "markdown",
   "metadata": {},
   "source": [
    "## flatten()\n",
    "\n",
    "For this exercise you will create a global flatten method.\n",
    "The method takes in any number of arguments and flattens them into a single array.\n",
    "If any of the arguments passed in are an array then the individual objects within the array will be flattened\n",
    "so that they exist at the same level as the other arguments\n",
    ". Any nested arrays, no matter how deep,\n",
    "should be flattened into the single array result.\n",
    "\n",
    "The following are examples of how this function would be used and what the expected results would be:\n",
    "   * flatten(1, [2, 3], 4, 5, [6, [7]]) # returns [1, 2, 3, 4, 5, 6, 7]\n",
    "   * flatten('a', ['b', 2], 3, None, [[4], ['c']]) # returns ['a', 'b', 2, 3, None, 4, 'c']"
   ]
  }
 ],
 "metadata": {
  "kernelspec": {
   "display_name": "Python 3",
   "language": "python",
   "name": "python3"
  },
  "language_info": {
   "codemirror_mode": {
    "name": "ipython",
    "version": 3
   },
   "file_extension": ".py",
   "mimetype": "text/x-python",
   "name": "python",
   "nbconvert_exporter": "python",
   "pygments_lexer": "ipython3",
   "version": "3.7.3"
  }
 },
 "nbformat": 4,
 "nbformat_minor": 2
}

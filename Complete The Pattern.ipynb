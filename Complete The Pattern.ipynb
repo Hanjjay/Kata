{
 "cells": [
  {
   "cell_type": "markdown",
   "metadata": {},
   "source": [
    "### Complete The Pattern #2\n",
    "\n",
    " - Task : You have to write a function pattern which returns the following Pattern (See Pattern & Examples) upto n number of rows.\n",
    "\n",
    " - Note: Returning the pattern is not the same as Printing the pattern.\n",
    "\n",
    " - Rules/Note:\n",
    "\n",
    " > 1. If n < 1 then it should return \"\" i.e. empty string.\n",
    " >\n",
    " > 2. There are no whitespaces in the pattern.\n",
    "\n",
    " - Pattern:\n",
    " \n",
    "```\n",
    "(n)(n-1)(n-2)...4321\n",
    "(n)(n-1)(n-2)...432\n",
    "(n)(n-1)(n-2)...43\n",
    "(n)(n-1)(n-2)...4\n",
    "...............\n",
    "..............\n",
    "(n)(n-1)(n-2)\n",
    "(n)(n-1)\n",
    "(n)\n",
    "```\n",
    "\n",
    " - Examples:\n",
    "\n",
    "\n",
    " > - pattern(4):\n",
    "\n",
    "```\n",
    "4321\n",
    "432\n",
    "43\n",
    "4\n",
    "```\n",
    "\n",
    " >  - pattern(11):\n",
    "\n",
    "```\n",
    "1110987654321\n",
    "111098765432\n",
    "11109876543\n",
    "1110987654\n",
    "111098765\n",
    "11109876\n",
    "1110987\n",
    "111098\n",
    "11109\n",
    "1110\n",
    "11\n",
    "```\n",
    "\n",
    " - Hint: Use \\n in string to jump to next line"
   ]
  },
  {
   "cell_type": "code",
   "execution_count": 1,
   "metadata": {},
   "outputs": [],
   "source": [
    "def pattern(n):\n",
    "    empty_list =[]\n",
    "    result = \"\"\n",
    "    for i in range(n):\n",
    "        empty_list.append(n)\n",
    "        n -= 1\n",
    "    copy_list = empty_list.copy()\n",
    "    \n",
    "    for count_list in copy_list:\n",
    "        for appendvalue in empty_list:\n",
    "            result += str(appendvalue)\n",
    "        if len(empty_list) == 1:\n",
    "            break\n",
    "        result +=\"\\n\"\n",
    "        empty_list.pop()\n",
    "    return result"
   ]
  },
  {
   "cell_type": "code",
   "execution_count": null,
   "metadata": {},
   "outputs": [],
   "source": []
  }
 ],
 "metadata": {
  "kernelspec": {
   "display_name": "Python 3",
   "language": "python",
   "name": "python3"
  },
  "language_info": {
   "codemirror_mode": {
    "name": "ipython",
    "version": 3
   },
   "file_extension": ".py",
   "mimetype": "text/x-python",
   "name": "python",
   "nbconvert_exporter": "python",
   "pygments_lexer": "ipython3",
   "version": "3.7.3"
  }
 },
 "nbformat": 4,
 "nbformat_minor": 2
}

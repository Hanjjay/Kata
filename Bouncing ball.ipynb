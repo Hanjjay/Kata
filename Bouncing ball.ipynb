{
 "cells": [
  {
   "cell_type": "markdown",
   "metadata": {},
   "source": [
    "### Bouncing Balls\n",
    "\n",
    " - A child is playing with a ball on the nth floor of a tall building. The height of this floor, h, is known.\n",
    "\n",
    " - He drops the ball out of the window. The ball bounces (for example), to two-thirds of its height (a bounce of 0.66).\n",
    "\n",
    " - His mother looks out of a window 1.5 meters from the ground.\n",
    "\n",
    " - How many times will the mother see the ball pass in front of her window (including when it's falling and bouncing?\n",
    "\n",
    " - Three conditions must be met for a valid experiment:\n",
    "\n",
    " > 1. Float parameter \"h\" in meters must be greater than 0\n",
    " > \n",
    " > 2. Float parameter \"bounce\" must be greater than 0 and less than 1\n",
    " > \n",
    " > 3. Float parameter \"window\" must be less than h.\n",
    "\n",
    " - If all three conditions above are fulfilled, return a positive integer, otherwise return -1.\n",
    "\n",
    " - Note: The ball can only be seen if the height of the rebounding ball is strictly greater than the window parameter.\n",
    "\n",
    " - Example:\n",
    "\n",
    "```\n",
    "- h = 3, bounce = 0.66, window = 1.5, result is 3\n",
    "\n",
    "- h = 3, bounce = 1, window = 1.5, result is -1 \n",
    "\n",
    "(Condition 2) not fulfilled).\n",
    "```"
   ]
  },
  {
   "cell_type": "code",
   "execution_count": 1,
   "metadata": {},
   "outputs": [
    {
     "data": {
      "text/plain": [
       "3"
      ]
     },
     "execution_count": 1,
     "metadata": {},
     "output_type": "execute_result"
    }
   ],
   "source": [
    "def test(h,bounce,window):\n",
    "    \n",
    "    if (h > 0) and (bounce < 1) and (bounce > 0) and (window < h):\n",
    "        pass\n",
    "    else:\n",
    "        return -1\n",
    "    \n",
    "    moms_look = 0\n",
    "    \n",
    "    while(window < h):\n",
    "        moms_look += 1\n",
    "        h *= bounce\n",
    "        if window < h:\n",
    "            moms_look += 1\n",
    "        else:\n",
    "            break\n",
    "\n",
    "\n",
    "    \n",
    "    return moms_look\n",
    "\n",
    "test(3,0.66,1.5)"
   ]
  },
  {
   "cell_type": "code",
   "execution_count": null,
   "metadata": {},
   "outputs": [],
   "source": []
  }
 ],
 "metadata": {
  "kernelspec": {
   "display_name": "Python 3",
   "language": "python",
   "name": "python3"
  },
  "language_info": {
   "codemirror_mode": {
    "name": "ipython",
    "version": 3
   },
   "file_extension": ".py",
   "mimetype": "text/x-python",
   "name": "python",
   "nbconvert_exporter": "python",
   "pygments_lexer": "ipython3",
   "version": "3.7.3"
  }
 },
 "nbformat": 4,
 "nbformat_minor": 2
}

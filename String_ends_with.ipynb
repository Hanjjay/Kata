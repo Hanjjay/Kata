{
 "cells": [
  {
   "cell_type": "markdown",
   "metadata": {},
   "source": [
    "### String ends with?\n",
    "\n",
    " - Complete the solution so that it returns true if the first argument(string) passed in ends with the 2nd argument (also a string).\n",
    " \n",
    " - ending으로 입력 받은 글자로 string이 끝이나는지를 검사하여 맞으면 terue, 틀리면 false로 반환하라\n",
    " \n",
    " - Examples:\n",
    "\n",
    " > solution('abc', 'bc') # returns true\n",
    " >\n",
    " > solution('abc', 'd') # returns false\n",
    " >\n",
    " > solution('abcde', '') # returns True"
   ]
  },
  {
   "cell_type": "code",
   "execution_count": 1,
   "metadata": {},
   "outputs": [],
   "source": [
    "def solution(string, ending):\n",
    "    string_list = list(string)\n",
    "    ending_list = list(ending) \n",
    "    test = string_list[len(string_list)-len(ending_list):] \n",
    "    if test == ending_list:\n",
    "        return True\n",
    "    else:\n",
    "        return False"
   ]
  },
  {
   "cell_type": "code",
   "execution_count": null,
   "metadata": {},
   "outputs": [],
   "source": []
  }
 ],
 "metadata": {
  "kernelspec": {
   "display_name": "Python 3",
   "language": "python",
   "name": "python3"
  },
  "language_info": {
   "codemirror_mode": {
    "name": "ipython",
    "version": 3
   },
   "file_extension": ".py",
   "mimetype": "text/x-python",
   "name": "python",
   "nbconvert_exporter": "python",
   "pygments_lexer": "ipython3",
   "version": "3.7.3"
  }
 },
 "nbformat": 4,
 "nbformat_minor": 2
}

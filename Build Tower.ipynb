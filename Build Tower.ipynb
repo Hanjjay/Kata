{
 "cells": [
  {
   "cell_type": "markdown",
   "metadata": {},
   "source": [
    "###### Build Tower\n",
    "\n",
    " - Build Tower by the following given argument: number of floors (integer and always greater than 0).\n",
    "\n",
    " - Tower block is represented as `*`\n",
    " \n",
    " - for example, a tower of 3 floors looks like below\n",
    "\n",
    "```\n",
    "[\n",
    "  '  *  ', \n",
    "  ' *** ', \n",
    "  '*****'\n",
    "]\n",
    "```\n",
    "\n",
    " - and a tower of 6 floors looks like below\n",
    "\n",
    "```\n",
    "[\n",
    "  '     *     ', \n",
    "  '    ***    ', \n",
    "  '   *****   ', \n",
    "  '  *******  ', \n",
    "  ' ********* ', \n",
    "  '***********'\n",
    "]\n",
    "```"
   ]
  },
  {
   "cell_type": "code",
   "execution_count": 2,
   "metadata": {},
   "outputs": [],
   "source": [
    "def tower_builder(n_floors):\n",
    "    output =[]\n",
    "    for i in range(n_floors):\n",
    "        output.append(('*')*(2*(i+1)-1))\n",
    "    for k in range(n_floors-1):\n",
    "        while(len(output[-1]) != len(output[k])):    \n",
    "            output[k] =  \" \" + output[k] + \" \"\n",
    "    return output"
   ]
  },
  {
   "cell_type": "code",
   "execution_count": null,
   "metadata": {},
   "outputs": [],
   "source": []
  }
 ],
 "metadata": {
  "kernelspec": {
   "display_name": "Python 3",
   "language": "python",
   "name": "python3"
  },
  "language_info": {
   "codemirror_mode": {
    "name": "ipython",
    "version": 3
   },
   "file_extension": ".py",
   "mimetype": "text/x-python",
   "name": "python",
   "nbconvert_exporter": "python",
   "pygments_lexer": "ipython3",
   "version": "3.7.3"
  }
 },
 "nbformat": 4,
 "nbformat_minor": 2
}

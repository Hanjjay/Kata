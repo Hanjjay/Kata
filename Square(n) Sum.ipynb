{
 "cells": [
  {
   "cell_type": "markdown",
   "metadata": {},
   "source": [
    "### Square(n) Sum\n",
    "\n",
    " - Complete the square sum function so that it squares each number passed into it and then sums the results together.\n",
    " \n",
    " - 입력으로 int list를 받아서 모든 int 값의 제곱을 합하는 함수를 만들어라\n",
    "\n",
    " - For example, for `[1, 2, 2]` it should return 9 because 1^2 + 2^2 + 2^2 = 9.\n",
    " \n",
    " - 예를 들면 `[1, 2, 2]` 인 경우, 9를 출력한다 (1^2 + 2^2 + 2^2 = 9)"
   ]
  },
  {
   "cell_type": "code",
   "execution_count": 1,
   "metadata": {},
   "outputs": [],
   "source": [
    "def square_sum(numbers_list):\n",
    "    square_list = []\n",
    "    result = 0\n",
    "    for i in numbers_list:\n",
    "        square_list.append(i*i)\n",
    "    for i in square_list:\n",
    "        result += i\n",
    "    \n",
    "    return print(result)"
   ]
  },
  {
   "cell_type": "code",
   "execution_count": null,
   "metadata": {},
   "outputs": [],
   "source": []
  }
 ],
 "metadata": {
  "kernelspec": {
   "display_name": "Python 3",
   "language": "python",
   "name": "python3"
  },
  "language_info": {
   "codemirror_mode": {
    "name": "ipython",
    "version": 3
   },
   "file_extension": ".py",
   "mimetype": "text/x-python",
   "name": "python",
   "nbconvert_exporter": "python",
   "pygments_lexer": "ipython3",
   "version": "3.7.3"
  }
 },
 "nbformat": 4,
 "nbformat_minor": 2
}

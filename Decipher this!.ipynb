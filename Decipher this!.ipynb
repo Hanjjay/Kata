{
 "cells": [
  {
   "cell_type": "markdown",
   "metadata": {},
   "source": [
    "###### Decipher this!\n",
    "\n",
    " - You are given a secret message you need to decipher. Here are the things you need to know to decipher it:  \n",
    "\n",
    " - For each word:  \n",
    "\n",
    " > 1. the second and the last letter is switched (e.g. Hello becomes Holle)  \n",
    " > 2. the first letter is replaced by its character code (e.g. H becomes 72)  \n",
    "\n",
    " - Note: there are no special characters used, only letters and spaces  \n",
    "\n",
    " - Examples  \n",
    "\n",
    "```\n",
    "decipherThis('72olle 103doo 100ya'); // 'Hello good day'\n",
    "decipherThis('82yade 115te 103o'); // 'Ready set go'\n",
    "```"
   ]
  },
  {
   "cell_type": "code",
   "execution_count": 1,
   "metadata": {},
   "outputs": [],
   "source": [
    "def decipher_this(target):\n",
    "    num_list = ['0','1','2','3','4','5','6','7','8','9']\n",
    "    classify_target = target.split(' ')\n",
    "    result = ''\n",
    "    \n",
    "    for i in classify_target:\n",
    "        ascode = ''\n",
    "        remainstr = ''\n",
    "        \n",
    "        for _ in range(len(i)):\n",
    "            if i[_] in num_list:\n",
    "                ascode+=i[_]\n",
    "            else:\n",
    "                remainstr += i[_]\n",
    "            \n",
    "        decasc = chr(int(ascode))\n",
    "        \n",
    "        if len(remainstr) == 0:\n",
    "            result += decasc + \" \"\n",
    "        elif len(remainstr) == 1:\n",
    "            result += decasc + remainstr +\" \"\n",
    "        elif len(remainstr) == 2:\n",
    "            result += decasc + remainstr[-1] + remainstr[0] + \" \"\n",
    "        elif len(remainstr) >= 3:\n",
    "            result += decasc + remainstr[-1] + remainstr[1:-1] + remainstr[0] + \" \"\n",
    "            \n",
    "    return result[:-1]"
   ]
  },
  {
   "cell_type": "code",
   "execution_count": null,
   "metadata": {},
   "outputs": [],
   "source": []
  }
 ],
 "metadata": {
  "kernelspec": {
   "display_name": "Python 3",
   "language": "python",
   "name": "python3"
  },
  "language_info": {
   "codemirror_mode": {
    "name": "ipython",
    "version": 3
   },
   "file_extension": ".py",
   "mimetype": "text/x-python",
   "name": "python",
   "nbconvert_exporter": "python",
   "pygments_lexer": "ipython3",
   "version": "3.7.3"
  }
 },
 "nbformat": 4,
 "nbformat_minor": 2
}

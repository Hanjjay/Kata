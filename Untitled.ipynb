{
 "cells": [
  {
   "cell_type": "markdown",
   "metadata": {},
   "source": [
    "### Pokemon Damage Calculator\n",
    "\n",
    " - It's a Pokemon battle! Your task is to calculate the damage that a particular move would do using the following formula (not the actual one from the game):\n",
    " \n",
    " - 포켓몬 배틀에 사용될 데미지 계산 함수를 만들어보자. 이때 데미지는 아래와 같이 표현된다.\n",
    " \n",
    "`\n",
    "damage = 50 * (attack / defense) * effectiveness\n",
    "`\n",
    "\n",
    " - Where:\n",
    "\n",
    " > - attack = your attack power / 우리의 공격력\n",
    " > \n",
    " > - defense = the opponent's defense / 상대의 방어력\n",
    " > \n",
    " > - effectiveness = the effectiveness of the attack based on the matchup (see explanation below) / 효과\n",
    "\n",
    " - Effectiveness:\n",
    "\n",
    " - Attacks can be super effective, neutral, or not very effective depending on the matchup. For example, water would be super effective against fire, but not very effective against grass.\n",
    " \n",
    " - 이때 효과는 아래와 같이 계산된다\n",
    "\n",
    " > - Super effective: 2x damage\n",
    " > \n",
    " > - Neutral: 1x damage\n",
    " > \n",
    " > - Not very effective: 0.5x damage\n",
    "\n",
    " - To prevent this kata from being tedious, you'll only be dealing with four types: `fire`, `water`, `grass`, and `electric`. Here is the effectiveness of each matchup:\n",
    " \n",
    " - 효과는 속성과 연관이 있으며 있대 속성은 총 4가지로 `fire`, `water`, `grass`, and `electric`이다.\n",
    " \n",
    " - 속성에 대한 강함과 약함에 대한 산대성은 아래와 같이 정의된다\n",
    "\n",
    " > - fire > grass\n",
    " > \n",
    " > - fire < water\n",
    " > \n",
    " > - fire = electric\n",
    " > \n",
    " > - water < grass\n",
    " > \n",
    " > - water < electric\n",
    " > \n",
    " > - grass = electric\n",
    " \n",
    " - For this kata, any type against itself is not very effective. Also, assume that the relationships between different types are symmetric (if A is super effective against B, then B is not very effective against A).\n",
    "\n",
    " - The function you must implement takes in:\n",
    "\n",
    " > 1. your type\n",
    " > \n",
    " > 2. the opponent's type\n",
    " > \n",
    " > 3. your attack power\n",
    " > \n",
    " > 4. the opponent's defense"
   ]
  },
  {
   "cell_type": "code",
   "execution_count": 1,
   "metadata": {},
   "outputs": [
    {
     "ename": "SyntaxError",
     "evalue": "invalid syntax (<ipython-input-1-4ea8fcf0c6e3>, line 5)",
     "output_type": "error",
     "traceback": [
      "\u001b[0;36m  File \u001b[0;32m\"<ipython-input-1-4ea8fcf0c6e3>\"\u001b[0;36m, line \u001b[0;32m5\u001b[0m\n\u001b[0;31m    if (your_type == opponent_type) or (your_type == 'grass' and opponent_type == 'ellipsis')and(your_type:\u001b[0m\n\u001b[0m                                                                                                          ^\u001b[0m\n\u001b[0;31mSyntaxError\u001b[0m\u001b[0;31m:\u001b[0m invalid syntax\n"
     ]
    }
   ],
   "source": [
    "def calculate_damage(your_type, opponent_type, attack, defense):\n",
    "    effectiveness = 1\n",
    "    damage = 50 * (attack / defense) * effectiveness\n",
    "    \n",
    "    if (your_type == opponent_type) or (your_type == 'grass' and opponent_type == 'ellipsis')and(your_type:\n",
    "        pass\n",
    "    \n",
    "    elif (your_type == 'fire' and opponent_type == 'grass'):\n",
    "        effectiveness = 2\n",
    "    elif your_type == 'fire'\n",
    "    \n",
    "    return damage"
   ]
  },
  {
   "cell_type": "code",
   "execution_count": null,
   "metadata": {},
   "outputs": [],
   "source": []
  }
 ],
 "metadata": {
  "kernelspec": {
   "display_name": "Python 3",
   "language": "python",
   "name": "python3"
  },
  "language_info": {
   "codemirror_mode": {
    "name": "ipython",
    "version": 3
   },
   "file_extension": ".py",
   "mimetype": "text/x-python",
   "name": "python",
   "nbconvert_exporter": "python",
   "pygments_lexer": "ipython3",
   "version": "3.7.3"
  }
 },
 "nbformat": 4,
 "nbformat_minor": 2
}
